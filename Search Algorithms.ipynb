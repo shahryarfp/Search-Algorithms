{
 "cells": [
  {
   "cell_type": "markdown",
   "metadata": {},
   "source": [
    "# <center> AI - CA1<br>Name: Shahryar Namdari<br>ID: 810098043<br>9/3/2022<center>"
   ]
  },
  {
   "cell_type": "code",
   "execution_count": 1,
   "metadata": {},
   "outputs": [],
   "source": [
    "import pandas as pd\n",
    "import time\n",
    "import numpy as np\n",
    "import queue\n",
    "import copy\n",
    "from heapq import heapify, heappush, heappop"
   ]
  },
  {
   "cell_type": "markdown",
   "metadata": {},
   "source": [
    "## Function to read file"
   ]
  },
  {
   "cell_type": "code",
   "execution_count": 2,
   "metadata": {},
   "outputs": [],
   "source": [
    "def read_file(file_address,mode):\n",
    "    my_file = open(file_address,mode)\n",
    "    line = my_file.readline()\n",
    "    global field_row\n",
    "    global field_column\n",
    "    field_row, field_column = (int(val) for val in line.split())\n",
    "    #creating the field\n",
    "    global field\n",
    "    field = np.zeros((field_row,field_column))\n",
    "\n",
    "    ### Initial state is Gandalfs position\n",
    "    #placing gandalf\n",
    "    line = my_file.readline()\n",
    "    global gandalfs_row\n",
    "    global gandalfs_column\n",
    "    gandalfs_row, gandalfs_column = (int(val) for val in line.split())\n",
    "    field[gandalfs_row][gandalfs_column] = 7\n",
    "\n",
    "    ### Goal state is Gondors position\n",
    "    #placing Gondor\n",
    "    line = my_file.readline()\n",
    "    global gondors_row\n",
    "    global gondors_column\n",
    "    gondors_row, gondors_column = (int(val) for val in line.split())\n",
    "    field[gondors_row][gondors_column] = 10\n",
    "\n",
    "    ### Action and Transition model for Gandalf is to go up, down, left and right. Also to pick up and drop RF.\n",
    "    #finding num of orcs(k) and RFs(l)\n",
    "    line = my_file.readline()\n",
    "    k, l = (int(val) for val in line.split())\n",
    "\n",
    "    #placing orcs and their areas\n",
    "    global orc_area_dict\n",
    "    global x\n",
    "    global y\n",
    "    global c\n",
    "    orc_area_dict = {}\n",
    "    for t in range(k):\n",
    "        line = my_file.readline()\n",
    "        x, y, c = (int(val) for val in line.split())\n",
    "        field[x][y] = -1\n",
    "        for i in range(-c,c+1):\n",
    "            for j in range(-c,c+1):\n",
    "                if abs(i)+abs(j) <= c :\n",
    "                    if x+i>=0 and x+i<field_row and y+j>=0 and y+j<field_column and field[x+i][y+j] != -1:\n",
    "                        field[x+i][y+j] = -2-t\n",
    "                        orc_area_dict[(x+i,y+j)] = c\n",
    "\n",
    "    #placing RFs\n",
    "    global RFs_list\n",
    "    RFs_list = []\n",
    "    for _ in range(l):\n",
    "        line = my_file.readline()\n",
    "        row, column = (int(val) for val in line.split())\n",
    "        new_RF = (row,column)\n",
    "        RFs_list.append(new_RF)\n",
    "        field[row][column] = 8\n",
    "\n",
    "    #placing castles\n",
    "    global RF_dict\n",
    "    global castles_list\n",
    "    RF_dict = {}\n",
    "    castles_list = []\n",
    "    for t in range(l):\n",
    "        line = my_file.readline()\n",
    "        row, column = (int(val) for val in line.split())\n",
    "        new_castle = (row,column)\n",
    "        castles_list.append(new_castle)\n",
    "        RF_dict[RFs_list[t]] = new_castle\n",
    "        field[row][column] = 9\n",
    "\n",
    "    my_file.close()"
   ]
  },
  {
   "cell_type": "markdown",
   "metadata": {},
   "source": [
    "### Classes to help algorithm"
   ]
  },
  {
   "cell_type": "code",
   "execution_count": 3,
   "metadata": {},
   "outputs": [],
   "source": [
    "class Problem(object):\n",
    "    def __init__(self):\n",
    "        self.goal = (gondors_row, gondors_column)\n",
    "        self.gandalf = (gandalfs_row, gandalfs_column)\n",
    "        self.start_state = (gandalfs_row, gandalfs_column)\n",
    "        #self.have_RF = False\n",
    "        \n",
    "    def goal_test(self, node):\n",
    "        if (self.goal == node.get_state()) and (len(node.get_dropped_RF()) == len(RFs_list)):\n",
    "            return True\n",
    "        else:\n",
    "            return False\n",
    "\n",
    "    def get_start_state(self):\n",
    "        return self.start_state\n",
    "    \n",
    "    def can_go_first(self, state, orc_area_count):\n",
    "        if state[0] < 0 or state[0] >= field_row or \\\n",
    "        state[1] < 0 or state[1] >= field_column:\n",
    "            return False\n",
    "        #print(state,field_row,field_column)\n",
    "        if field[state] == -1:\n",
    "            return False\n",
    "        return True\n",
    "\n",
    "    def can_go_second(self, state, orc_area_count):\n",
    "        if field[state] <= -2 and orc_area_dict[state] < (orc_area_count):\n",
    "            return False\n",
    "        return True\n",
    "             \n",
    "        \n",
    "class Node(object):\n",
    "    def __init__(self, position):\n",
    "        self.state = tuple(position)\n",
    "        self.parent = None\n",
    "        self.orc_area_count = 0\n",
    "        self.depth = 0\n",
    "        self.path = []\n",
    "        self.have_RF = tuple()\n",
    "        self.dropped_RF = set()\n",
    "        self.fn = 0\n",
    "        \n",
    "    def __hash__(self):\n",
    "        return hash((self.state, self.have_RF, str(self.dropped_RF)))\n",
    "    def __lt__(self, other):\n",
    "        return self.fn < other.fn\n",
    "    def __gt__(self, other):\n",
    "        return self.fn > other.fn\n",
    "    def __eq__(self, other):\n",
    "        return self.fn == other.fn\n",
    "    \n",
    "    def get_state(self):\n",
    "        return self.state\n",
    "\n",
    "    def DLS_hash(self):\n",
    "        return hash((self.depth, self.state, self.have_RF, str(self.dropped_RF)))\n",
    "    \n",
    "    def get_depth(self):\n",
    "        return self.depth\n",
    "    def set_depth(self, number):\n",
    "        self.depth = number\n",
    "        \n",
    "    def set_parent(self, node_):\n",
    "        self.parent = node_\n",
    "    def get_parent(self):\n",
    "        return self.parent\n",
    "\n",
    "    def get_have_RF(self):\n",
    "        return self.have_RF\n",
    "    def remove_have_RF(self):\n",
    "        self.have_RF = tuple()\n",
    "    def set_have_RF(self, position):\n",
    "        self.have_RF = position\n",
    "\n",
    "    def get_dropped_RF(self):\n",
    "        return self.dropped_RF\n",
    "    def set_dropped_RF(self, set_):\n",
    "        self.dropped_RF = set_\n",
    "    def add_dropped_RF(self, position):\n",
    "        (self.dropped_RF).add(position)\n",
    "\n",
    "    def set_path(self, path_):\n",
    "        self.path = path_\n",
    "    def get_path(self):\n",
    "        return self.path\n",
    "\n",
    "    def get_orc_area_count(self):\n",
    "        return self.orc_area_count\n",
    "    def set_orc_area_count(self, number):\n",
    "        self.orc_area_count = number\n",
    "\n",
    "    def get_fn(self):\n",
    "        return self.fn\n",
    "    def set_fn(self, number):\n",
    "        self.fn = number"
   ]
  },
  {
   "cell_type": "markdown",
   "metadata": {},
   "source": [
    "## BFS Function"
   ]
  },
  {
   "cell_type": "markdown",
   "metadata": {},
   "source": [
    "Breadth First Search is a traversal technique in which we traverse all the nodes of the graph in a breadth-wise motion. In BFS, we traverse one level at a time and then jump to the next level. In a graph, the traversal can start from any node and cover all the nodes level-wise.<br>BFS is complete and it will give us optimal solution with time complexity of O(b^d)"
   ]
  },
  {
   "cell_type": "code",
   "execution_count": 4,
   "metadata": {},
   "outputs": [],
   "source": [
    "def BFS():\n",
    "    problem = Problem()\n",
    "    seen_state_count = 1\n",
    "    start_node = Node(problem.get_start_state())\n",
    "    if problem.goal_test(start_node):\n",
    "        return 1, start_node.get_path(), seen_state_count\n",
    "    \n",
    "    #in next line we have movements(down, right, up and left). also [1,1] means pick RF & [0,0] means drop RF.\n",
    "    pick_ = [1,1]\n",
    "    drop_ = [0,0]\n",
    "    D = [1,0] #down\n",
    "    R = [0,1] #right\n",
    "    U = [-1,0] #up\n",
    "    L = [0,-1] #left\n",
    "    possible_actions = [pick_,drop_,D,L,U,R]\n",
    "    \n",
    "    frontier_queue = queue.Queue()\n",
    "    frontier_set = set()\n",
    "    frontier_queue.put(start_node)\n",
    "    frontier_set.add(hash(start_node))\n",
    "    \n",
    "    while(frontier_queue):\n",
    "        node = frontier_queue.get()\n",
    "        for action in possible_actions:\n",
    "            #pick\n",
    "            if action == pick_ and (node.get_state() in RFs_list) and (not node.get_have_RF()) \\\n",
    "            and (RF_dict[node.get_state()] not in node.get_dropped_RF()):\n",
    "                child = Node([copy.copy(node.get_state()[0]), copy.copy(node.get_state()[1])])\n",
    "                child.set_orc_area_count(copy.copy(node.get_orc_area_count()))\n",
    "                child.set_path(copy.copy(node.get_path()))\n",
    "                child.set_have_RF(copy.copy(child.get_state()))\n",
    "                child.set_dropped_RF(copy.copy(node.get_dropped_RF()))\n",
    "                seen_state_count += 1\n",
    "                frontier_queue.put(child)\n",
    "                frontier_set.add(hash(child))\n",
    "                continue\n",
    "\n",
    "            #drop\n",
    "            if action == drop_ and (node.get_state() in castles_list) and (node.get_have_RF())\\\n",
    "            and RF_dict[node.get_have_RF()] == node.get_state():\n",
    "                child = Node([copy.copy(node.get_state()[0]), copy.deepcopy(node.get_state()[1])])\n",
    "                #child.set_parent(node)\n",
    "                child.set_orc_area_count(copy.copy(node.get_orc_area_count()))\n",
    "                child.set_path(copy.copy(node.get_path()))\n",
    "                child.set_have_RF(tuple())\n",
    "                #problem.have_RF = False\n",
    "                child.set_dropped_RF(copy.copy(node.get_dropped_RF()))\n",
    "                child.add_dropped_RF(copy.copy(node.get_state()))\n",
    "                seen_state_count += 1\n",
    "                frontier_queue.put(child)\n",
    "                frontier_set.add(hash(child))\n",
    "                continue\n",
    "            if action == [0,0] or action == [1,1]:\n",
    "                continue\n",
    "            \n",
    "            ##movement\n",
    "            child = Node([copy.copy(node.get_state()[0]) + copy.copy(action[0])\\\n",
    "                          , copy.copy(node.get_state()[1]) + copy.copy(action[1])])\n",
    "            child.set_orc_area_count(copy.copy(node.get_orc_area_count()))\n",
    "            \n",
    "            #Handle orc area\n",
    "            if not problem.can_go_first(child.get_state(), child.get_orc_area_count()):\n",
    "                continue\n",
    "            if (field[child.get_state()] <= -2) and (field[child.get_state()] == field[node.get_state()]):\n",
    "                child.set_orc_area_count(copy.copy(node.get_orc_area_count()) + 1)\n",
    "            elif (field[child.get_state()] <= -2) and (field[node.get_state()] <= -2) \\\n",
    "                    and (field[child.get_state()] != field[node.get_state()]):\n",
    "                child.set_orc_area_count(1)\n",
    "            elif (field[child.get_state()] <= -2) and (field[node.get_state()] > -2):\n",
    "                child.set_orc_area_count(1)\n",
    "            else:\n",
    "                child.set_orc_area_count(0)\n",
    "                    \n",
    "            if problem.can_go_second(child.get_state(), child.get_orc_area_count()):\n",
    "                child.set_have_RF(copy.copy(node.get_have_RF()))\n",
    "                child.set_dropped_RF(copy.copy(node.get_dropped_RF()))\n",
    "                \n",
    "                #print(node.get_path())\n",
    "                if action == D:\n",
    "                    path = copy.copy(node.get_path())\n",
    "                    path.append('D')\n",
    "                    child.set_path(path)\n",
    "                if action == R:\n",
    "                    path = copy.copy(node.get_path())\n",
    "                    path.append('R')\n",
    "                    child.set_path(path)\n",
    "                if action == L:\n",
    "                    path = copy.copy(node.get_path())\n",
    "                    path.append('L')\n",
    "                    child.set_path(path)\n",
    "                if action == U:\n",
    "                    path = copy.copy(node.get_path())\n",
    "                    path.append('U')\n",
    "                    child.set_path(path)\n",
    "\n",
    "                if hash(child) not in frontier_set:\n",
    "                    seen_state_count += 1\n",
    "                    if problem.goal_test(child):\n",
    "                        return 1, child.get_path(), seen_state_count\n",
    "                    frontier_queue.put(child)\n",
    "                    frontier_set.add(hash(child))\n",
    "    return 0, 0, 0"
   ]
  },
  {
   "cell_type": "markdown",
   "metadata": {},
   "source": [
    "#### Running BFS"
   ]
  },
  {
   "cell_type": "code",
   "execution_count": 6,
   "metadata": {},
   "outputs": [
    {
     "name": "stdout",
     "output_type": "stream",
     "text": [
      "test  00 :\n",
      "Solved!\n",
      "path:  DDRURRRDRUURRDDR\n",
      "path length:  16\n",
      "seen state:  162\n",
      "t_mean:  12.965520222981771  ms\n",
      " \n"
     ]
    }
   ],
   "source": [
    "def run_three_times(func, test, file_address, read_mode):\n",
    "    read_file(file_address, read_mode)\n",
    "    start1 = time.time()\n",
    "    func()\n",
    "    end1 = time.time()\n",
    "    t1 = abs(end1 - start1)*1000\n",
    "    start1 = time.time()\n",
    "    func()\n",
    "    end1 = time.time()\n",
    "    t2 = abs(end1 - start1)*1000\n",
    "    start1 = time.time()\n",
    "    a,b,c = func()\n",
    "    end1 = time.time()\n",
    "    t3 = abs(end1 - start1)*1000\n",
    "    t_mean = (t1 + t2 + t3)/3\n",
    "    print('test ',test,':')\n",
    "    if a:\n",
    "        print('Solved!')\n",
    "        print('path: ', ''.join(b))\n",
    "        print('path length: ', len(b))\n",
    "        print('seen state: ', c)\n",
    "        print('t_mean: ', t_mean, ' ms')\n",
    "        print(' ')\n",
    "    else:\n",
    "        print(\"can't solve!\")\n",
    "        print(' ')\n",
    "run_three_times(BFS,'00','D:\\\\term8\\\\AI\\\\Fadayi\\\\CA1\\\\sample_testcases\\\\newTest.txt','r')    \n",
    "# run_three_times(BFS,'00','D:\\\\term8\\\\AI\\\\Fadayi\\\\CA1\\\\sample_testcases\\\\test_00.txt','r')\n",
    "# run_three_times(BFS,'01','D:\\\\term8\\\\AI\\\\Fadayi\\\\CA1\\\\sample_testcases\\\\test_01.txt','r')\n",
    "# run_three_times(BFS,'02','D:\\\\term8\\\\AI\\\\Fadayi\\\\CA1\\\\sample_testcases\\\\test_02.txt','r')\n",
    "# run_three_times(BFS,'03','D:\\\\term8\\\\AI\\\\Fadayi\\\\CA1\\\\sample_testcases\\\\test_03.txt','r')"
   ]
  },
  {
   "cell_type": "markdown",
   "metadata": {},
   "source": [
    "## DLS Function"
   ]
  },
  {
   "cell_type": "code",
   "execution_count": 6,
   "metadata": {},
   "outputs": [],
   "source": [
    "def DLS(search_depth):\n",
    "    problem = Problem()\n",
    "    seen_state_count = 1\n",
    "    start_node = Node(problem.get_start_state())\n",
    "    if problem.goal_test(start_node):\n",
    "        return 1, start_node.get_path(), seen_state_count\n",
    "    \n",
    "    #in next line we have movements(down, right, up and left). also [1,1] means pick RF & [0,0] means drop RF.\n",
    "    pick_ = [1,1]\n",
    "    drop_ = [0,0]\n",
    "    D = [1,0] #down\n",
    "    R = [0,1] #right\n",
    "    U = [-1,0] #up\n",
    "    L = [0,-1] #left\n",
    "    possible_actions = [pick_,drop_,D,L,U,R]\n",
    "    \n",
    "    frontier_stack = []\n",
    "    frontier_set = set()\n",
    "    frontier_stack.append(start_node)\n",
    "    frontier_set.add(start_node.DLS_hash())\n",
    "\n",
    "    while(frontier_stack):\n",
    "        node = frontier_stack.pop()\n",
    "        if problem.goal_test(node):\n",
    "            return 1, node.get_path(), seen_state_count\n",
    "        if((node.get_depth() + 1) > search_depth):\n",
    "            continue #**** it should be continue!\n",
    "        for action in possible_actions:\n",
    "            #pick\n",
    "            if action == pick_ and (node.get_state() in RFs_list) and (not node.get_have_RF()) \\\n",
    "            and (RF_dict[node.get_state()] not in node.get_dropped_RF()):\n",
    "                child = Node([copy.copy(node.get_state()[0]), copy.copy(node.get_state()[1])])\n",
    "                child.set_orc_area_count(copy.copy(node.get_orc_area_count()))\n",
    "                child.set_path(copy.copy(node.get_path()))\n",
    "                child.set_have_RF(copy.copy(child.get_state()))\n",
    "                child.set_dropped_RF(copy.copy(node.get_dropped_RF()))\n",
    "                child.set_depth(node.get_depth() + 1)\n",
    "\n",
    "                seen_state_count += 1\n",
    "                frontier_stack.append(child)\n",
    "                frontier_set.add(child.DLS_hash())\n",
    "                continue\n",
    "\n",
    "            #drop\n",
    "            if action == drop_ and (node.get_state() in castles_list) and (node.get_have_RF())\\\n",
    "            and RF_dict[node.get_have_RF()] == node.get_state():\n",
    "                child = Node([copy.copy(node.get_state()[0]), copy.copy(node.get_state()[1])])\n",
    "                child.set_orc_area_count(copy.copy(node.get_orc_area_count()))\n",
    "                child.set_path(copy.copy(node.get_path()))\n",
    "                child.set_have_RF(tuple())\n",
    "                child.set_dropped_RF(copy.copy(node.get_dropped_RF()))\n",
    "                child.add_dropped_RF(copy.copy(node.get_state()))\n",
    "                child.set_depth(node.get_depth() + 1)\n",
    "\n",
    "                seen_state_count += 1\n",
    "                frontier_stack.append(child)\n",
    "                frontier_set.add(child.DLS_hash())\n",
    "                continue\n",
    "            if action == [0,0] or action == [1,1]:\n",
    "                continue\n",
    "\n",
    "            #movement\n",
    "            child = Node([copy.copy(node.get_state()[0]) + copy.copy(action[0])\\\n",
    "                          , copy.copy(node.get_state()[1]) + copy.copy(action[1])])\n",
    "            child.set_orc_area_count(copy.copy(node.get_orc_area_count()))\n",
    "\n",
    "            #Handle orc area\n",
    "            if not problem.can_go_first(child.get_state(), child.get_orc_area_count()):\n",
    "                continue\n",
    "            if (field[child.get_state()] <= -2) and (field[child.get_state()] == field[node.get_state()]):\n",
    "                child.set_orc_area_count(copy.copy(node.get_orc_area_count()) + 1)\n",
    "            elif (field[child.get_state()] <= -2) and (field[node.get_state()] <= -2) \\\n",
    "                    and (field[child.get_state()] != field[node.get_state()]):\n",
    "                child.set_orc_area_count(1)\n",
    "            elif (field[child.get_state()] <= -2) and (field[node.get_state()] > -2):\n",
    "                child.set_orc_area_count(1)\n",
    "            else:\n",
    "                child.set_orc_area_count(0)\n",
    "\n",
    "            if problem.can_go_second(child.get_state(), child.get_orc_area_count()):\n",
    "                child.set_have_RF(copy.copy(node.get_have_RF()))\n",
    "                child.set_dropped_RF(copy.copy(node.get_dropped_RF()))\n",
    "                child.set_depth(node.get_depth() + 1)\n",
    "\n",
    "                #print(node.get_path())\n",
    "                if action == D:\n",
    "                    path = copy.copy(node.get_path())\n",
    "                    path.append('D')\n",
    "                    child.set_path(path)\n",
    "                if action == R:\n",
    "                    path = copy.copy(node.get_path())\n",
    "                    path.append('R')\n",
    "                    child.set_path(path)\n",
    "                if action == L:\n",
    "                    path = copy.copy(node.get_path())\n",
    "                    path.append('L')\n",
    "                    child.set_path(path)\n",
    "                if action == U:\n",
    "                    path = copy.copy(node.get_path())\n",
    "                    path.append('U')\n",
    "                    child.set_path(path)\n",
    "\n",
    "                if child.DLS_hash() not in frontier_set:\n",
    "                    seen_state_count += 1\n",
    "                    if problem.goal_test(child):\n",
    "                        return 1, child.get_path(), seen_state_count\n",
    "                    frontier_stack.append(child)\n",
    "                    frontier_set.add(child.DLS_hash())\n",
    "\n",
    "    return 0, 0, 0\n"
   ]
  },
  {
   "cell_type": "markdown",
   "metadata": {},
   "source": [
    "## IDS Function"
   ]
  },
  {
   "cell_type": "markdown",
   "metadata": {},
   "source": [
    "Iterative Deepening Search (IDS) is an iterative graph searching strategy that takes advantage of the completeness of the Breadth-First Search (BFS) strategy but uses much less memory in each iteration (similar to Depth-First Search). <br> It gives us an optimal solution unlike DFS and its time complexity is O(bm)."
   ]
  },
  {
   "cell_type": "code",
   "execution_count": 7,
   "metadata": {},
   "outputs": [],
   "source": [
    "def IDS():\n",
    "    search_depth = 0\n",
    "    while(True):\n",
    "        search_depth += 1\n",
    "        solved, b, c = DLS(search_depth)\n",
    "        if solved:\n",
    "            return solved,b,c"
   ]
  },
  {
   "cell_type": "markdown",
   "metadata": {},
   "source": [
    "#### Running IDS"
   ]
  },
  {
   "cell_type": "code",
   "execution_count": 8,
   "metadata": {},
   "outputs": [
    {
     "name": "stdout",
     "output_type": "stream",
     "text": [
      "test  00 :\n",
      "Solved!\n",
      "path:  RRRRRRRRRRRRRRRRRRRRRRRRRRRRRDRUDRUDRUDRUDRRRRRR\n",
      "path length:  48\n",
      "seen state:  56386\n",
      "t_mean:  23672.566811243694  ms\n",
      " \n",
      "test  01 :\n",
      "Solved!\n",
      "path:  RRRRDDLLDDDDDLDRRRUUURURULLDDDLDDRRRRRUUUUDDDLDLLRRR\n",
      "path length:  52\n",
      "seen state:  18690\n",
      "t_mean:  16722.11416562398  ms\n",
      " \n",
      "test  02 :\n",
      "Solved!\n",
      "path:  RRRRRRRLLLLDDDDLDLLRDDRUURURRRDRDD\n",
      "path length:  34\n",
      "seen state:  2508\n",
      "t_mean:  1689.2755031585693  ms\n",
      " \n",
      "test  03 :\n",
      "Solved!\n",
      "path:  RRDDDDDLDLDDRDRRRRRRRRUUUUUUUUULLLLLLLDDDDDDDDLDRRRRUUUUURRRRDDDDD\n",
      "path length:  66\n",
      "seen state:  70581\n",
      "t_mean:  75454.59429423015  ms\n",
      " \n"
     ]
    }
   ],
   "source": [
    "run_three_times(IDS,'00','D:\\\\term8\\\\AI\\\\Fadayi\\\\CA1\\\\sample_testcases\\\\test_00.txt','r')\n",
    "run_three_times(IDS,'01','D:\\\\term8\\\\AI\\\\Fadayi\\\\CA1\\\\sample_testcases\\\\test_01.txt','r')\n",
    "run_three_times(IDS,'02','D:\\\\term8\\\\AI\\\\Fadayi\\\\CA1\\\\sample_testcases\\\\test_02.txt','r')\n",
    "run_three_times(IDS,'03','D:\\\\term8\\\\AI\\\\Fadayi\\\\CA1\\\\sample_testcases\\\\test_03.txt','r')"
   ]
  },
  {
   "cell_type": "markdown",
   "metadata": {},
   "source": [
    "## A*"
   ]
  },
  {
   "cell_type": "markdown",
   "metadata": {},
   "source": [
    "### Heuristic Function"
   ]
  },
  {
   "cell_type": "markdown",
   "metadata": {},
   "source": [
    "Heuristic Function is defined with these situations: <br> 1. when there is no more RF left and you should go to gondor directly<br>2. when RF left and you don't have any RF so you should find the closest RF<br>3. when you have RF so you should go to its castle directly<br> All of these situations defined in an optimal way in the following heuristic function and it obeys the admissibility rule. I used manhattan distance from mean position of RFs, castles and goal in this function. This function is admissible and consistent."
   ]
  },
  {
   "cell_type": "code",
   "execution_count": 9,
   "metadata": {},
   "outputs": [],
   "source": [
    "def heuristic(node, weight):\n",
    "    sumx = gondors_row\n",
    "    sumy = gondors_column\n",
    "    \n",
    "    for RF in RFs_list:\n",
    "        sumx += RF[0]\n",
    "        sumy += RF[1]\n",
    "    for castle in castles_list:\n",
    "        sumx += castle[0]\n",
    "        sumy += castle[1]\n",
    "        \n",
    "    X = sumx/(len(RFs_list)+len(castles_list)+1)\n",
    "    Y = sumy/(len(RFs_list)+len(castles_list)+1)\n",
    "\n",
    "    dx = node.get_state()[0] - X\n",
    "    dy = node.get_state()[0] - Y\n",
    "    return (abs(dx) + abs(dy)) * weight"
   ]
  },
  {
   "cell_type": "markdown",
   "metadata": {},
   "source": [
    "### A* Function"
   ]
  },
  {
   "cell_type": "markdown",
   "metadata": {},
   "source": [
    "A* is an optimal informed search algorithm, or a best-first search, meaning that it is formulated in terms of weighted graphs: starting from a specific starting node of a graph, it aims to find a path to the given goal node having the smallest cost (least distance travelled, shortest time, etc.).<br> We will use g(n) as the cost that we have given so far and h(n) as the huristic that estimates the cost from node n to the goal state. <br>Finally f(n) will be h(n)+g(n)\n",
    "<br>A* search is complete and its time complexity is O(b^d)."
   ]
  },
  {
   "cell_type": "code",
   "execution_count": 10,
   "metadata": {},
   "outputs": [],
   "source": [
    "def A_STAR(weight):\n",
    "    problem = Problem()\n",
    "    seen_state_count = 1\n",
    "    start_node = Node(problem.get_start_state())\n",
    "    if problem.goal_test(start_node):\n",
    "        return 1, start_node.get_path(), seen_state_count\n",
    "    \n",
    "    #in next line we have movements(down, right, up and left). also [1,1] means pick RF & [0,0] means drop RF.\n",
    "    pick_ = [1,1]\n",
    "    drop_ = [0,0]\n",
    "    D = [1,0] #down\n",
    "    R = [0,1] #right\n",
    "    U = [-1,0] #up\n",
    "    L = [0,-1] #left\n",
    "    possible_actions = [pick_,drop_,R,D,U,L]\n",
    "    \n",
    "    frontier_queue = []\n",
    "    frontier_set = set()\n",
    "    heappush(frontier_queue, start_node)\n",
    "    frontier_set.add(hash(start_node))\n",
    "    \n",
    "    while(frontier_queue):\n",
    "        node = heappop(frontier_queue)\n",
    "        for action in possible_actions:\n",
    "            #pick\n",
    "            if action == pick_ and (node.get_state() in RFs_list) and (not node.get_have_RF()) \\\n",
    "            and (RF_dict[node.get_state()] not in node.get_dropped_RF()):\n",
    "                child = Node([copy.copy(node.get_state()[0]), copy.copy(node.get_state()[1])])\n",
    "                child.set_orc_area_count(copy.copy(node.get_orc_area_count()))\n",
    "                child.set_path(copy.copy(node.get_path()))\n",
    "                child.set_have_RF(copy.copy(child.get_state()))\n",
    "                child.set_dropped_RF(copy.copy(node.get_dropped_RF()))\n",
    "                child.set_depth(node.get_depth() + 1)\n",
    "                child.set_fn(heuristic(child, weight) + 2*child.get_depth())\n",
    "                seen_state_count += 1\n",
    "                heappush(frontier_queue, child)\n",
    "                frontier_set.add(hash(child))\n",
    "                continue\n",
    "\n",
    "            #drop\n",
    "            if action == drop_ and (node.get_state() in castles_list) and (node.get_have_RF())\\\n",
    "            and RF_dict[node.get_have_RF()] == node.get_state():\n",
    "                child = Node([copy.copy(node.get_state()[0]), copy.deepcopy(node.get_state()[1])])\n",
    "                child.set_orc_area_count(copy.copy(node.get_orc_area_count()))\n",
    "                child.set_path(copy.copy(node.get_path()))\n",
    "                child.set_have_RF(tuple())\n",
    "                child.set_dropped_RF(copy.copy(node.get_dropped_RF()))\n",
    "                child.add_dropped_RF(copy.copy(node.get_state()))\n",
    "                child.set_depth(node.get_depth() + 1)\n",
    "                child.set_fn(heuristic(child, weight) + 2*child.get_depth())\n",
    "                \n",
    "                seen_state_count += 1\n",
    "                heappush(frontier_queue, child)\n",
    "                frontier_set.add(hash(child))\n",
    "                continue\n",
    "            if action == [0,0] or action == [1,1]:\n",
    "                continue\n",
    "            \n",
    "            ##movement\n",
    "            child = Node([copy.copy(node.get_state()[0]) + copy.copy(action[0])\\\n",
    "                          , copy.copy(node.get_state()[1]) + copy.copy(action[1])])\n",
    "            child.set_orc_area_count(copy.copy(node.get_orc_area_count()))\n",
    "            \n",
    "            #Handle orc area\n",
    "            if not problem.can_go_first(child.get_state(), child.get_orc_area_count()):\n",
    "                continue\n",
    "            if (field[child.get_state()] <= -2) and (field[child.get_state()] == field[node.get_state()]):\n",
    "                child.set_orc_area_count(copy.copy(node.get_orc_area_count()) + 1)\n",
    "            elif (field[child.get_state()] <= -2) and (field[node.get_state()] <= -2) \\\n",
    "                    and (field[child.get_state()] != field[node.get_state()]):\n",
    "                child.set_orc_area_count(1)\n",
    "            elif (field[child.get_state()] <= -2) and (field[node.get_state()] > -2):\n",
    "                child.set_orc_area_count(1)\n",
    "            else:\n",
    "                child.set_orc_area_count(0)\n",
    "                    \n",
    "            if problem.can_go_second(child.get_state(), child.get_orc_area_count()):\n",
    "                child.set_have_RF(copy.copy(node.get_have_RF()))\n",
    "                child.set_dropped_RF(copy.copy(node.get_dropped_RF()))\n",
    "                child.set_depth(node.get_depth() + 1)\n",
    "                child.set_fn(heuristic(child, weight) + 2*child.get_depth())\n",
    "                \n",
    "                #print(node.get_path())\n",
    "                if action == D:\n",
    "                    path = copy.copy(node.get_path())\n",
    "                    path.append('D')\n",
    "                    child.set_path(path)\n",
    "                if action == R:\n",
    "                    path = copy.copy(node.get_path())\n",
    "                    path.append('R')\n",
    "                    child.set_path(path)\n",
    "                if action == L:\n",
    "                    path = copy.copy(node.get_path())\n",
    "                    path.append('L')\n",
    "                    child.set_path(path)\n",
    "                if action == U:\n",
    "                    path = copy.copy(node.get_path())\n",
    "                    path.append('U')\n",
    "                    child.set_path(path)\n",
    "\n",
    "                if hash(child) not in frontier_set:\n",
    "                    seen_state_count += 1\n",
    "                    if problem.goal_test(child):\n",
    "                        return 1, child.get_path(), seen_state_count\n",
    "                    heappush(frontier_queue, child)\n",
    "                    frontier_set.add(hash(child))\n",
    "                    \n",
    "    return 0, 0, 0"
   ]
  },
  {
   "cell_type": "markdown",
   "metadata": {},
   "source": [
    "#### Running A*"
   ]
  },
  {
   "cell_type": "code",
   "execution_count": 11,
   "metadata": {},
   "outputs": [
    {
     "name": "stdout",
     "output_type": "stream",
     "text": [
      "test  00 :\n",
      "Solved!\n",
      "path:  RRRRRRRRRRRRRRRRRRRRRRRRRRRRRDRUDRUDRUDRUDRRRRRR\n",
      "path length:  48\n",
      "seen state:  10493\n",
      "t_mean:  785.1512432098389  ms\n",
      " \n",
      "test  01 :\n",
      "Solved!\n",
      "path:  DRRDRRDDLLDDDLDURURRURURUDLDLDLDDRRRRURUUUDDDLDLLRRR\n",
      "path length:  52\n",
      "seen state:  1429\n",
      "t_mean:  99.0768273671468  ms\n",
      " \n",
      "test  02 :\n",
      "Solved!\n",
      "path:  RRRRRRRDDDDLLLLLDLLRDDUURRURRDRRDD\n",
      "path length:  34\n",
      "seen state:  414\n",
      "t_mean:  23.119290669759113  ms\n",
      " \n",
      "test  03 :\n",
      "Solved!\n",
      "path:  DDRDRDDLDLDDRDURUUURRRRRRRUUUUULLDDDDDLLLLLDDDLDURUUURRRURRRRDDDDD\n",
      "path length:  66\n",
      "seen state:  4407\n",
      "t_mean:  287.6736323038737  ms\n",
      " \n"
     ]
    }
   ],
   "source": [
    "def run_three_times(func, weight, test, file_address, read_mode):\n",
    "    read_file(file_address, read_mode)\n",
    "    start1 = time.time()\n",
    "    func(weight)\n",
    "    end1 = time.time()\n",
    "    t1 = abs(end1 - start1)*1000\n",
    "    start1 = time.time()\n",
    "    func(weight)\n",
    "    end1 = time.time()\n",
    "    t2 = abs(end1 - start1)*1000\n",
    "    start1 = time.time()\n",
    "    a,b,c = func(weight)\n",
    "    end1 = time.time()\n",
    "    t3 = abs(end1 - start1)*1000\n",
    "    t_mean = (t1 + t2 + t3)/3\n",
    "    print('test ',test,':')\n",
    "    if a:\n",
    "        print('Solved!')\n",
    "        print('path: ', ''.join(b))\n",
    "        print('path length: ', len(b))\n",
    "        print('seen state: ', c)\n",
    "        print('t_mean: ', t_mean, ' ms')\n",
    "        print(' ')\n",
    "    else:\n",
    "        print(\"can't solve!\")\n",
    "        print(' ')\n",
    "        \n",
    "run_three_times(A_STAR, 1,'00','D:\\\\term8\\\\AI\\\\Fadayi\\\\CA1\\\\sample_testcases\\\\test_00.txt','r')\n",
    "run_three_times(A_STAR, 1,'01','D:\\\\term8\\\\AI\\\\Fadayi\\\\CA1\\\\sample_testcases\\\\test_01.txt','r')\n",
    "run_three_times(A_STAR, 1,'02','D:\\\\term8\\\\AI\\\\Fadayi\\\\CA1\\\\sample_testcases\\\\test_02.txt','r')\n",
    "run_three_times(A_STAR, 1,'03','D:\\\\term8\\\\AI\\\\Fadayi\\\\CA1\\\\sample_testcases\\\\test_03.txt','r')"
   ]
  },
  {
   "cell_type": "markdown",
   "metadata": {},
   "source": [
    "## Weighted A*"
   ]
  },
  {
   "cell_type": "markdown",
   "metadata": {},
   "source": [
    "It is exactly like A* but we just multuply h(n) by weight!"
   ]
  },
  {
   "cell_type": "markdown",
   "metadata": {},
   "source": [
    "### weight : 5"
   ]
  },
  {
   "cell_type": "code",
   "execution_count": 12,
   "metadata": {},
   "outputs": [
    {
     "name": "stdout",
     "output_type": "stream",
     "text": [
      "test  00 :\n",
      "Solved!\n",
      "path:  RRRRRRRRRRRRRRRRRRRRRRRRRRRRRDRUDRUDRUDRUDDRRRRRRU\n",
      "path length:  50\n",
      "seen state:  8791\n",
      "t_mean:  554.9759070078532  ms\n",
      " \n",
      "test  01 :\n",
      "Solved!\n",
      "path:  DDDRRRRRRDLDLDLDDUURUUUUDDLLDDDLDURURRURURRRLLLDLDDRDRRR\n",
      "path length:  56\n",
      "seen state:  1435\n",
      "t_mean:  94.00383631388347  ms\n",
      " \n",
      "test  02 :\n",
      "Solved!\n",
      "path:  DRRDRRRURRUDDDDLLLLLDLLRDDUURURRRRDRDD\n",
      "path length:  38\n",
      "seen state:  435\n",
      "t_mean:  27.27484703063965  ms\n",
      " \n",
      "test  03 :\n",
      "Solved!\n",
      "path:  DDRDRDDLDLDDRDURUUURRRRRRRUUUUUDLLUDDDDDLLLLLDDDLDURUUURRRURRRRDDDDD\n",
      "path length:  68\n",
      "seen state:  4412\n",
      "t_mean:  316.18603070576984  ms\n",
      " \n"
     ]
    }
   ],
   "source": [
    "weight = 5\n",
    "run_three_times(A_STAR, weight,'00','D:\\\\term8\\\\AI\\\\Fadayi\\\\CA1\\\\sample_testcases\\\\test_00.txt','r')\n",
    "run_three_times(A_STAR, weight,'01','D:\\\\term8\\\\AI\\\\Fadayi\\\\CA1\\\\sample_testcases\\\\test_01.txt','r')\n",
    "run_three_times(A_STAR, weight,'02','D:\\\\term8\\\\AI\\\\Fadayi\\\\CA1\\\\sample_testcases\\\\test_02.txt','r')\n",
    "run_three_times(A_STAR, weight,'03','D:\\\\term8\\\\AI\\\\Fadayi\\\\CA1\\\\sample_testcases\\\\test_03.txt','r')"
   ]
  },
  {
   "cell_type": "markdown",
   "metadata": {},
   "source": [
    "### weight : 15"
   ]
  },
  {
   "cell_type": "code",
   "execution_count": 13,
   "metadata": {},
   "outputs": [
    {
     "name": "stdout",
     "output_type": "stream",
     "text": [
      "test  00 :\n",
      "Solved!\n",
      "path:  DDRRRRRRRRRRRRRRRRRRRRRRRRRRRRRUUDRUDRUDRUDRUDDRRRRRRU\n",
      "path length:  54\n",
      "seen state:  8452\n",
      "t_mean:  509.3822479248047  ms\n",
      " \n",
      "test  01 :\n",
      "Solved!\n",
      "path:  DDDDDRRURRUUDDLLDDDLDURURRURURRRLLLDLDDRDULUURURUDLDLDLDDUURURURRDRDDD\n",
      "path length:  70\n",
      "seen state:  1431\n",
      "t_mean:  99.4113286336263  ms\n",
      " \n",
      "test  02 :\n",
      "Solved!\n",
      "path:  DRRDRDDRRRRUUUUDDDDLLLLLDLLRDDUURURRRRDRDD\n",
      "path length:  42\n",
      "seen state:  374\n",
      "t_mean:  22.937536239624023  ms\n",
      " \n",
      "test  03 :\n",
      "Solved!\n",
      "path:  DDRDRDDLDLDDRDURUUURRRRRRRUUUUULLDDDDDLLLLLDDDLDURUUURRRUDRRRRUDDDDD\n",
      "path length:  68\n",
      "seen state:  4282\n",
      "t_mean:  354.4294834136963  ms\n",
      " \n"
     ]
    }
   ],
   "source": [
    "weight = 15\n",
    "run_three_times(A_STAR, weight,'00','D:\\\\term8\\\\AI\\\\Fadayi\\\\CA1\\\\sample_testcases\\\\test_00.txt','r')\n",
    "run_three_times(A_STAR, weight,'01','D:\\\\term8\\\\AI\\\\Fadayi\\\\CA1\\\\sample_testcases\\\\test_01.txt','r')\n",
    "run_three_times(A_STAR, weight,'02','D:\\\\term8\\\\AI\\\\Fadayi\\\\CA1\\\\sample_testcases\\\\test_02.txt','r')\n",
    "run_three_times(A_STAR, weight,'03','D:\\\\term8\\\\AI\\\\Fadayi\\\\CA1\\\\sample_testcases\\\\test_03.txt','r')"
   ]
  },
  {
   "cell_type": "code",
   "execution_count": 14,
   "metadata": {},
   "outputs": [
    {
     "data": {
      "text/html": [
       "<img src=\"https://res.cloudinary.com/dfjbabeum/image/upload/v1646996341/AI/photo_2022-03-11_14-28-08_cvkwkp.jpg\"/>"
      ],
      "text/plain": [
       "<IPython.core.display.Image object>"
      ]
     },
     "execution_count": 14,
     "metadata": {},
     "output_type": "execute_result"
    }
   ],
   "source": [
    "from IPython.display import Image\n",
    "from IPython.core.display import HTML \n",
    "Image(url= \"https://res.cloudinary.com/dfjbabeum/image/upload/v1646996341/AI/photo_2022-03-11_14-28-08_cvkwkp.jpg\")"
   ]
  },
  {
   "cell_type": "code",
   "execution_count": 15,
   "metadata": {},
   "outputs": [
    {
     "data": {
      "text/html": [
       "<img src=\"https://res.cloudinary.com/dfjbabeum/image/upload/v1646996391/AI/photo_2022-03-11_14-29-41_vtzomy.jpg\"/>"
      ],
      "text/plain": [
       "<IPython.core.display.Image object>"
      ]
     },
     "execution_count": 15,
     "metadata": {},
     "output_type": "execute_result"
    }
   ],
   "source": [
    "Image(url= \"https://res.cloudinary.com/dfjbabeum/image/upload/v1646996391/AI/photo_2022-03-11_14-29-41_vtzomy.jpg\")"
   ]
  },
  {
   "cell_type": "code",
   "execution_count": 16,
   "metadata": {},
   "outputs": [
    {
     "data": {
      "text/html": [
       "<img src=\"https://res.cloudinary.com/dfjbabeum/image/upload/v1646996343/AI/photo_2022-03-11_14-28-18_hcifkk.jpg\"/>"
      ],
      "text/plain": [
       "<IPython.core.display.Image object>"
      ]
     },
     "execution_count": 16,
     "metadata": {},
     "output_type": "execute_result"
    }
   ],
   "source": [
    "Image(url= \"https://res.cloudinary.com/dfjbabeum/image/upload/v1646996343/AI/photo_2022-03-11_14-28-18_hcifkk.jpg\")"
   ]
  },
  {
   "cell_type": "code",
   "execution_count": 17,
   "metadata": {},
   "outputs": [
    {
     "data": {
      "text/html": [
       "<img src=\"https://res.cloudinary.com/dfjbabeum/image/upload/v1646996343/AI/photo_2022-03-11_14-28-21_m8ygly.jpg\"/>"
      ],
      "text/plain": [
       "<IPython.core.display.Image object>"
      ]
     },
     "execution_count": 17,
     "metadata": {},
     "output_type": "execute_result"
    }
   ],
   "source": [
    "Image(url= \"https://res.cloudinary.com/dfjbabeum/image/upload/v1646996343/AI/photo_2022-03-11_14-28-21_m8ygly.jpg\")"
   ]
  }
 ],
 "metadata": {
  "kernelspec": {
   "display_name": "Python 3 (ipykernel)",
   "language": "python",
   "name": "python3"
  },
  "language_info": {
   "codemirror_mode": {
    "name": "ipython",
    "version": 3
   },
   "file_extension": ".py",
   "mimetype": "text/x-python",
   "name": "python",
   "nbconvert_exporter": "python",
   "pygments_lexer": "ipython3",
   "version": "3.9.7"
  }
 },
 "nbformat": 4,
 "nbformat_minor": 2
}
